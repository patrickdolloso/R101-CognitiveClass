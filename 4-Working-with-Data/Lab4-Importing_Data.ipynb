{
 "cells": [
  {
   "cell_type": "markdown",
   "metadata": {},
   "source": [
    "<img src=\"http://cognitiveclass.ai/wp-content/uploads/2017/11/cc-logo-square.png\" width=\"150\">\n",
    "\n",
    "<h1 align=center>IMPORTING DATA in R</h1> \n",
    "\n"
   ]
  },
  {
   "cell_type": "markdown",
   "metadata": {},
   "source": [
    "<br>"
   ]
  },
  {
   "cell_type": "markdown",
   "metadata": {},
   "source": [
    "### Welcome!\n",
    "\n",
    "By the end of this notebook, you will have learned how to **import and read data** from different file types in R."
   ]
  },
  {
   "cell_type": "markdown",
   "metadata": {},
   "source": [
    "## Table of Contents\n",
    "\n",
    "\n",
    "<ul>\n",
    "<li><a href=\"#About-the-Dataset\">About the Dataset</a></li>\n",
    "<li><a href=\"#Reading-CSV-Files\">Reading CSV Files</a></li>\n",
    "<li><a href=\"#Reading-Excel-Files\">Reading Excel Files</a></li>\n",
    "<li><a href=\"#Accessing-Rows-and-Columns\">Accessing Rows and Columns from dataset</a></li>\n",
    "<li><a href=\"#Accessing-Built-in-Datasets-in-R\">Accessing Built-in Datasets in R</a></li>\n",
    "</ul>\n",
    "<p></p>\n",
    "Estimated Time Needed: <strong>15 min</strong>\n",
    "\n",
    "<hr>"
   ]
  },
  {
   "cell_type": "markdown",
   "metadata": {},
   "source": [
    "<a id=\"ref0\"></a>\n",
    "<h2 align=center>About the Dataset</h2>"
   ]
  },
  {
   "cell_type": "markdown",
   "metadata": {},
   "source": [
    "**Movies dataset**\n",
    "\n",
    "Here we have a dataset that includes one row for each movie, with several columns for each movie characteristic:\n",
    "\n",
    "- **name** - Name of the movie\n",
    "- **year** - Year the movie was released\n",
    "- **length_min** - Length of the movie (minutes)\n",
    "- **genre** - Genre of the movie\n",
    "- **average_rating** - Average rating on [IMDB](http://www.imdb.com/)\n",
    "- **cost_millions** - Movie's production cost (millions in USD)\n",
    "- **foreign** - Is the movie foreign (1) or domestic (0)?\n",
    "- **age_restriction** - Age restriction for the movie\n",
    "<br>\n"
   ]
  },
  {
   "cell_type": "markdown",
   "metadata": {},
   "source": [
    "<img src = \"https://ibm.box.com/shared/static/6kr8sg0n6pc40zd1xn6hjhtvy3k7cmeq.png\" width = 90% align=\"left\">"
   ]
  },
  {
   "cell_type": "markdown",
   "metadata": {},
   "source": [
    "Let's learn how to **import and read data** from two common types of files used to store tabular data (when data is stored in a table or a spreadsheet.)\n",
    "- **CSV files** (.csv)\n",
    "- **Excel files** (.xls or .xlsx)\n",
    "\n",
    "To begin, we'll need to **download the data**!"
   ]
  },
  {
   "cell_type": "markdown",
   "metadata": {},
   "source": [
    "<a id=\"ref0\"></a>\n",
    "<h2 align=center>Download the Data</h2>"
   ]
  },
  {
   "cell_type": "markdown",
   "metadata": {},
   "source": [
    "We've made it easy for you to get the data, which we've hosted online. Simply run the code cell below (Shift + Enter) to download the data to your current folder."
   ]
  },
  {
   "cell_type": "code",
   "execution_count": 1,
   "metadata": {
    "collapsed": true
   },
   "outputs": [],
   "source": [
    "# Download datasets\n",
    "\n",
    "# CSV file\n",
    "download.file(\"https://ibm.box.com/shared/static/n5ay5qadfe7e1nnsv5s01oe1x62mq51j.csv\", \n",
    "              destfile=\"movies-db.csv\")\n",
    "\n",
    "# XLS file\n",
    "download.file(\"https://ibm.box.com/shared/static/nx0ohd9sq0iz3p871zg8ehc1m39ibpx6.xls\", \n",
    "              destfile=\"movies-db.xls\")"
   ]
  },
  {
   "cell_type": "markdown",
   "metadata": {},
   "source": [
    "**If you ran the cell above, you have now downloaded the following files to your current folder:**\n",
    "> movies-db.csv  \n",
    "> movies-db.xls"
   ]
  },
  {
   "cell_type": "markdown",
   "metadata": {},
   "source": [
    "<a id=\"ref1\"></a>\n",
    "<center><h2>Reading CSV Files</h2></center>"
   ]
  },
  {
   "cell_type": "markdown",
   "metadata": {},
   "source": [
    "#### What are CSV files?"
   ]
  },
  {
   "cell_type": "markdown",
   "metadata": {},
   "source": [
    "Let's read data from a CSV file. CSV (Comma Separated Values) is one of the most common formats of structured data you will find. These files contain data in a table format, where in each row, columns are separated by a delimiter -- traditionally, a comma (hence comma-separated values).   \n",
    "  \n",
    "Usually, the first line in a CSV file contains the column names for the table itself. CSV files are popular because you do not need a particular program to open it."
   ]
  },
  {
   "cell_type": "markdown",
   "metadata": {},
   "source": [
    "#### Reading CSV files in R"
   ]
  },
  {
   "cell_type": "markdown",
   "metadata": {},
   "source": [
    "In the **`movies-db.csv`** file, the first line of text is the header (names of each of the columns), followed by rows of movie information.\n",
    "\n",
    "To read CSV files into R, we use the core function **`read.csv`**.  \n",
    "\n",
    "`read.csv` easy to use. All you need is the filepath to the CSV file. Let's try loading the file using the filepath to the `movies-db.csv` file we downloaded earlier:"
   ]
  },
  {
   "cell_type": "code",
   "execution_count": 2,
   "metadata": {
    "collapsed": false
   },
   "outputs": [
    {
     "data": {
      "text/html": [
       "<table>\n",
       "<thead><tr><th scope=col>name</th><th scope=col>year</th><th scope=col>length_min</th><th scope=col>genre</th><th scope=col>average_rating</th><th scope=col>cost_millions</th><th scope=col>foreign</th><th scope=col>age_restriction</th></tr></thead>\n",
       "<tbody>\n",
       "\t<tr><td>Toy Story                                </td><td>1995                                     </td><td> 81                                      </td><td>Animation                                </td><td>8.3                                      </td><td> 30.0                                    </td><td>0                                        </td><td> 0                                       </td></tr>\n",
       "\t<tr><td>Akira                                    </td><td>1998                                     </td><td>125                                      </td><td>Animation                                </td><td>8.1                                      </td><td> 10.4                                    </td><td>1                                        </td><td>14                                       </td></tr>\n",
       "\t<tr><td>The Breakfast Club                       </td><td>1985                                     </td><td> 97                                      </td><td>Drama                                    </td><td>7.9                                      </td><td>  1.0                                    </td><td>0                                        </td><td>14                                       </td></tr>\n",
       "\t<tr><td>The Artist                               </td><td>2011                                     </td><td>100                                      </td><td>Romance                                  </td><td>8.0                                      </td><td> 15.0                                    </td><td>1                                        </td><td>12                                       </td></tr>\n",
       "\t<tr><td>Modern Times                             </td><td>1936                                     </td><td> 87                                      </td><td>Comedy                                   </td><td>8.6                                      </td><td>  1.5                                    </td><td>0                                        </td><td>10                                       </td></tr>\n",
       "\t<tr><td>Fight Club                               </td><td>1999                                     </td><td>139                                      </td><td>Drama                                    </td><td>8.9                                      </td><td> 63.0                                    </td><td>0                                        </td><td>18                                       </td></tr>\n",
       "\t<tr><td>City of God                              </td><td>2002                                     </td><td>130                                      </td><td>Crime                                    </td><td>8.7                                      </td><td>  3.3                                    </td><td>1                                        </td><td>18                                       </td></tr>\n",
       "\t<tr><td>The Untouchables                         </td><td>1987                                     </td><td>119                                      </td><td>Drama                                    </td><td>7.9                                      </td><td> 25.0                                    </td><td>0                                        </td><td>14                                       </td></tr>\n",
       "\t<tr><td>Star Wars Episode IV                     </td><td>1977                                     </td><td>121                                      </td><td>Action                                   </td><td>8.7                                      </td><td> 11.0                                    </td><td>0                                        </td><td>10                                       </td></tr>\n",
       "\t<tr><td>American Beauty                          </td><td>1999                                     </td><td>122                                      </td><td>Drama                                    </td><td>8.4                                      </td><td> 15.0                                    </td><td>0                                        </td><td>14                                       </td></tr>\n",
       "\t<tr><td>Room                                     </td><td>2015                                     </td><td>118                                      </td><td>Drama                                    </td><td>8.3                                      </td><td> 13.0                                    </td><td>1                                        </td><td>14                                       </td></tr>\n",
       "\t<tr><td>Dr. Strangelove                          </td><td>1964                                     </td><td> 94                                      </td><td>Comedy                                   </td><td>8.5                                      </td><td>  1.8                                    </td><td>1                                        </td><td>10                                       </td></tr>\n",
       "\t<tr><td>The Ring                                 </td><td>1998                                     </td><td> 95                                      </td><td>Horror                                   </td><td>7.3                                      </td><td>  1.2                                    </td><td>1                                        </td><td>18                                       </td></tr>\n",
       "\t<tr><td>Monty Python and the Holy Grail          </td><td>1975                                     </td><td> 91                                      </td><td>Comedy                                   </td><td>8.3                                      </td><td>  0.4                                    </td><td>1                                        </td><td>18                                       </td></tr>\n",
       "\t<tr><td>High School Musical                      </td><td>2006                                     </td><td> 98                                      </td><td>Comedy                                   </td><td>5.2                                      </td><td>  4.2                                    </td><td>0                                        </td><td> 0                                       </td></tr>\n",
       "\t<tr><td>Shaun of the Dead                        </td><td>2004                                     </td><td> 99                                      </td><td>Horror                                   </td><td>8.0                                      </td><td>  6.1                                    </td><td>1                                        </td><td>18                                       </td></tr>\n",
       "\t<tr><td>Taxi Driver                              </td><td>1976                                     </td><td>113                                      </td><td>Crime                                    </td><td>8.3                                      </td><td>  1.3                                    </td><td>1                                        </td><td>14                                       </td></tr>\n",
       "\t<tr><td>The Shawshank Redemption                 </td><td>1994                                     </td><td>142                                      </td><td>Crime                                    </td><td>9.3                                      </td><td> 25.0                                    </td><td>0                                        </td><td>16                                       </td></tr>\n",
       "\t<tr><td>Interstellar                             </td><td>2014                                     </td><td>169                                      </td><td>Adventure                                </td><td>8.6                                      </td><td>165.0                                    </td><td>0                                        </td><td>10                                       </td></tr>\n",
       "\t<tr><td>Casino                                   </td><td>1995                                     </td><td>178                                      </td><td>Biography                                </td><td>8.2                                      </td><td> 50.0                                    </td><td>0                                        </td><td>18                                       </td></tr>\n",
       "\t<tr><td>The Goodfellas                           </td><td>1990                                     </td><td>145                                      </td><td>Biography                                </td><td>8.7                                      </td><td> 25.0                                    </td><td>0                                        </td><td>14                                       </td></tr>\n",
       "\t<tr><td>Blue is the Warmest Colour               </td><td>2013                                     </td><td>179                                      </td><td>Romance                                  </td><td>7.8                                      </td><td>  4.5                                    </td><td>1                                        </td><td>18                                       </td></tr>\n",
       "\t<tr><td>Black Swan                               </td><td>2010                                     </td><td>108                                      </td><td>Thriller                                 </td><td>8.0                                      </td><td> 13.0                                    </td><td>0                                        </td><td>16                                       </td></tr>\n",
       "\t<tr><td>Back to the Future                       </td><td>1985                                     </td><td>116                                      </td><td>Sci-fi                                   </td><td>8.5                                      </td><td> 19.0                                    </td><td>0                                        </td><td> 0                                       </td></tr>\n",
       "\t<tr><td>The Wave                                 </td><td>2008                                     </td><td>107                                      </td><td>Thriller                                 </td><td>7.6                                      </td><td>  5.5                                    </td><td>1                                        </td><td>16                                       </td></tr>\n",
       "\t<tr><td>Whiplash                                 </td><td>2014                                     </td><td>106                                      </td><td>Drama                                    </td><td>8.5                                      </td><td>  3.3                                    </td><td>1                                        </td><td>12                                       </td></tr>\n",
       "\t<tr><td>The Grand Hotel Budapest                 </td><td>2014                                     </td><td>100                                      </td><td>Crime                                    </td><td>8.1                                      </td><td> 25.5                                    </td><td>0                                        </td><td>14                                       </td></tr>\n",
       "\t<tr><td>Jumanji                                  </td><td>1995                                     </td><td>104                                      </td><td>Fantasy                                  </td><td>6.9                                      </td><td> 65.0                                    </td><td>0                                        </td><td>12                                       </td></tr>\n",
       "\t<tr><td>The Eternal Sunshine of the Spotless Mind</td><td>2004                                     </td><td>108                                      </td><td>Drama                                    </td><td>8.3                                      </td><td> 20.0                                    </td><td>0                                        </td><td>14                                       </td></tr>\n",
       "\t<tr><td>Chicago                                  </td><td>2002                                     </td><td>113                                      </td><td>Comedy                                   </td><td>7.2                                      </td><td> 45.0                                    </td><td>0                                        </td><td>12                                       </td></tr>\n",
       "</tbody>\n",
       "</table>\n"
      ],
      "text/latex": [
       "\\begin{tabular}{r|llllllll}\n",
       " name & year & length\\_min & genre & average\\_rating & cost\\_millions & foreign & age\\_restriction\\\\\n",
       "\\hline\n",
       "\t Toy Story                                 & 1995                                      &  81                                       & Animation                                 & 8.3                                       &  30.0                                     & 0                                         &  0                                       \\\\\n",
       "\t Akira                                     & 1998                                      & 125                                       & Animation                                 & 8.1                                       &  10.4                                     & 1                                         & 14                                       \\\\\n",
       "\t The Breakfast Club                        & 1985                                      &  97                                       & Drama                                     & 7.9                                       &   1.0                                     & 0                                         & 14                                       \\\\\n",
       "\t The Artist                                & 2011                                      & 100                                       & Romance                                   & 8.0                                       &  15.0                                     & 1                                         & 12                                       \\\\\n",
       "\t Modern Times                              & 1936                                      &  87                                       & Comedy                                    & 8.6                                       &   1.5                                     & 0                                         & 10                                       \\\\\n",
       "\t Fight Club                                & 1999                                      & 139                                       & Drama                                     & 8.9                                       &  63.0                                     & 0                                         & 18                                       \\\\\n",
       "\t City of God                               & 2002                                      & 130                                       & Crime                                     & 8.7                                       &   3.3                                     & 1                                         & 18                                       \\\\\n",
       "\t The Untouchables                          & 1987                                      & 119                                       & Drama                                     & 7.9                                       &  25.0                                     & 0                                         & 14                                       \\\\\n",
       "\t Star Wars Episode IV                      & 1977                                      & 121                                       & Action                                    & 8.7                                       &  11.0                                     & 0                                         & 10                                       \\\\\n",
       "\t American Beauty                           & 1999                                      & 122                                       & Drama                                     & 8.4                                       &  15.0                                     & 0                                         & 14                                       \\\\\n",
       "\t Room                                      & 2015                                      & 118                                       & Drama                                     & 8.3                                       &  13.0                                     & 1                                         & 14                                       \\\\\n",
       "\t Dr. Strangelove                           & 1964                                      &  94                                       & Comedy                                    & 8.5                                       &   1.8                                     & 1                                         & 10                                       \\\\\n",
       "\t The Ring                                  & 1998                                      &  95                                       & Horror                                    & 7.3                                       &   1.2                                     & 1                                         & 18                                       \\\\\n",
       "\t Monty Python and the Holy Grail           & 1975                                      &  91                                       & Comedy                                    & 8.3                                       &   0.4                                     & 1                                         & 18                                       \\\\\n",
       "\t High School Musical                       & 2006                                      &  98                                       & Comedy                                    & 5.2                                       &   4.2                                     & 0                                         &  0                                       \\\\\n",
       "\t Shaun of the Dead                         & 2004                                      &  99                                       & Horror                                    & 8.0                                       &   6.1                                     & 1                                         & 18                                       \\\\\n",
       "\t Taxi Driver                               & 1976                                      & 113                                       & Crime                                     & 8.3                                       &   1.3                                     & 1                                         & 14                                       \\\\\n",
       "\t The Shawshank Redemption                  & 1994                                      & 142                                       & Crime                                     & 9.3                                       &  25.0                                     & 0                                         & 16                                       \\\\\n",
       "\t Interstellar                              & 2014                                      & 169                                       & Adventure                                 & 8.6                                       & 165.0                                     & 0                                         & 10                                       \\\\\n",
       "\t Casino                                    & 1995                                      & 178                                       & Biography                                 & 8.2                                       &  50.0                                     & 0                                         & 18                                       \\\\\n",
       "\t The Goodfellas                            & 1990                                      & 145                                       & Biography                                 & 8.7                                       &  25.0                                     & 0                                         & 14                                       \\\\\n",
       "\t Blue is the Warmest Colour                & 2013                                      & 179                                       & Romance                                   & 7.8                                       &   4.5                                     & 1                                         & 18                                       \\\\\n",
       "\t Black Swan                                & 2010                                      & 108                                       & Thriller                                  & 8.0                                       &  13.0                                     & 0                                         & 16                                       \\\\\n",
       "\t Back to the Future                        & 1985                                      & 116                                       & Sci-fi                                    & 8.5                                       &  19.0                                     & 0                                         &  0                                       \\\\\n",
       "\t The Wave                                  & 2008                                      & 107                                       & Thriller                                  & 7.6                                       &   5.5                                     & 1                                         & 16                                       \\\\\n",
       "\t Whiplash                                  & 2014                                      & 106                                       & Drama                                     & 8.5                                       &   3.3                                     & 1                                         & 12                                       \\\\\n",
       "\t The Grand Hotel Budapest                  & 2014                                      & 100                                       & Crime                                     & 8.1                                       &  25.5                                     & 0                                         & 14                                       \\\\\n",
       "\t Jumanji                                   & 1995                                      & 104                                       & Fantasy                                   & 6.9                                       &  65.0                                     & 0                                         & 12                                       \\\\\n",
       "\t The Eternal Sunshine of the Spotless Mind & 2004                                      & 108                                       & Drama                                     & 8.3                                       &  20.0                                     & 0                                         & 14                                       \\\\\n",
       "\t Chicago                                   & 2002                                      & 113                                       & Comedy                                    & 7.2                                       &  45.0                                     & 0                                         & 12                                       \\\\\n",
       "\\end{tabular}\n"
      ],
      "text/markdown": [
       "\n",
       "name | year | length_min | genre | average_rating | cost_millions | foreign | age_restriction | \n",
       "|---|---|---|---|---|---|---|---|---|---|---|---|---|---|---|---|---|---|---|---|---|---|---|---|---|---|---|---|---|---|\n",
       "| Toy Story                                 | 1995                                      |  81                                       | Animation                                 | 8.3                                       |  30.0                                     | 0                                         |  0                                        | \n",
       "| Akira                                     | 1998                                      | 125                                       | Animation                                 | 8.1                                       |  10.4                                     | 1                                         | 14                                        | \n",
       "| The Breakfast Club                        | 1985                                      |  97                                       | Drama                                     | 7.9                                       |   1.0                                     | 0                                         | 14                                        | \n",
       "| The Artist                                | 2011                                      | 100                                       | Romance                                   | 8.0                                       |  15.0                                     | 1                                         | 12                                        | \n",
       "| Modern Times                              | 1936                                      |  87                                       | Comedy                                    | 8.6                                       |   1.5                                     | 0                                         | 10                                        | \n",
       "| Fight Club                                | 1999                                      | 139                                       | Drama                                     | 8.9                                       |  63.0                                     | 0                                         | 18                                        | \n",
       "| City of God                               | 2002                                      | 130                                       | Crime                                     | 8.7                                       |   3.3                                     | 1                                         | 18                                        | \n",
       "| The Untouchables                          | 1987                                      | 119                                       | Drama                                     | 7.9                                       |  25.0                                     | 0                                         | 14                                        | \n",
       "| Star Wars Episode IV                      | 1977                                      | 121                                       | Action                                    | 8.7                                       |  11.0                                     | 0                                         | 10                                        | \n",
       "| American Beauty                           | 1999                                      | 122                                       | Drama                                     | 8.4                                       |  15.0                                     | 0                                         | 14                                        | \n",
       "| Room                                      | 2015                                      | 118                                       | Drama                                     | 8.3                                       |  13.0                                     | 1                                         | 14                                        | \n",
       "| Dr. Strangelove                           | 1964                                      |  94                                       | Comedy                                    | 8.5                                       |   1.8                                     | 1                                         | 10                                        | \n",
       "| The Ring                                  | 1998                                      |  95                                       | Horror                                    | 7.3                                       |   1.2                                     | 1                                         | 18                                        | \n",
       "| Monty Python and the Holy Grail           | 1975                                      |  91                                       | Comedy                                    | 8.3                                       |   0.4                                     | 1                                         | 18                                        | \n",
       "| High School Musical                       | 2006                                      |  98                                       | Comedy                                    | 5.2                                       |   4.2                                     | 0                                         |  0                                        | \n",
       "| Shaun of the Dead                         | 2004                                      |  99                                       | Horror                                    | 8.0                                       |   6.1                                     | 1                                         | 18                                        | \n",
       "| Taxi Driver                               | 1976                                      | 113                                       | Crime                                     | 8.3                                       |   1.3                                     | 1                                         | 14                                        | \n",
       "| The Shawshank Redemption                  | 1994                                      | 142                                       | Crime                                     | 9.3                                       |  25.0                                     | 0                                         | 16                                        | \n",
       "| Interstellar                              | 2014                                      | 169                                       | Adventure                                 | 8.6                                       | 165.0                                     | 0                                         | 10                                        | \n",
       "| Casino                                    | 1995                                      | 178                                       | Biography                                 | 8.2                                       |  50.0                                     | 0                                         | 18                                        | \n",
       "| The Goodfellas                            | 1990                                      | 145                                       | Biography                                 | 8.7                                       |  25.0                                     | 0                                         | 14                                        | \n",
       "| Blue is the Warmest Colour                | 2013                                      | 179                                       | Romance                                   | 7.8                                       |   4.5                                     | 1                                         | 18                                        | \n",
       "| Black Swan                                | 2010                                      | 108                                       | Thriller                                  | 8.0                                       |  13.0                                     | 0                                         | 16                                        | \n",
       "| Back to the Future                        | 1985                                      | 116                                       | Sci-fi                                    | 8.5                                       |  19.0                                     | 0                                         |  0                                        | \n",
       "| The Wave                                  | 2008                                      | 107                                       | Thriller                                  | 7.6                                       |   5.5                                     | 1                                         | 16                                        | \n",
       "| Whiplash                                  | 2014                                      | 106                                       | Drama                                     | 8.5                                       |   3.3                                     | 1                                         | 12                                        | \n",
       "| The Grand Hotel Budapest                  | 2014                                      | 100                                       | Crime                                     | 8.1                                       |  25.5                                     | 0                                         | 14                                        | \n",
       "| Jumanji                                   | 1995                                      | 104                                       | Fantasy                                   | 6.9                                       |  65.0                                     | 0                                         | 12                                        | \n",
       "| The Eternal Sunshine of the Spotless Mind | 2004                                      | 108                                       | Drama                                     | 8.3                                       |  20.0                                     | 0                                         | 14                                        | \n",
       "| Chicago                                   | 2002                                      | 113                                       | Comedy                                    | 7.2                                       |  45.0                                     | 0                                         | 12                                        | \n",
       "\n",
       "\n"
      ],
      "text/plain": [
       "   name                                      year length_min genre    \n",
       "1  Toy Story                                 1995  81        Animation\n",
       "2  Akira                                     1998 125        Animation\n",
       "3  The Breakfast Club                        1985  97        Drama    \n",
       "4  The Artist                                2011 100        Romance  \n",
       "5  Modern Times                              1936  87        Comedy   \n",
       "6  Fight Club                                1999 139        Drama    \n",
       "7  City of God                               2002 130        Crime    \n",
       "8  The Untouchables                          1987 119        Drama    \n",
       "9  Star Wars Episode IV                      1977 121        Action   \n",
       "10 American Beauty                           1999 122        Drama    \n",
       "11 Room                                      2015 118        Drama    \n",
       "12 Dr. Strangelove                           1964  94        Comedy   \n",
       "13 The Ring                                  1998  95        Horror   \n",
       "14 Monty Python and the Holy Grail           1975  91        Comedy   \n",
       "15 High School Musical                       2006  98        Comedy   \n",
       "16 Shaun of the Dead                         2004  99        Horror   \n",
       "17 Taxi Driver                               1976 113        Crime    \n",
       "18 The Shawshank Redemption                  1994 142        Crime    \n",
       "19 Interstellar                              2014 169        Adventure\n",
       "20 Casino                                    1995 178        Biography\n",
       "21 The Goodfellas                            1990 145        Biography\n",
       "22 Blue is the Warmest Colour                2013 179        Romance  \n",
       "23 Black Swan                                2010 108        Thriller \n",
       "24 Back to the Future                        1985 116        Sci-fi   \n",
       "25 The Wave                                  2008 107        Thriller \n",
       "26 Whiplash                                  2014 106        Drama    \n",
       "27 The Grand Hotel Budapest                  2014 100        Crime    \n",
       "28 Jumanji                                   1995 104        Fantasy  \n",
       "29 The Eternal Sunshine of the Spotless Mind 2004 108        Drama    \n",
       "30 Chicago                                   2002 113        Comedy   \n",
       "   average_rating cost_millions foreign age_restriction\n",
       "1  8.3             30.0         0        0             \n",
       "2  8.1             10.4         1       14             \n",
       "3  7.9              1.0         0       14             \n",
       "4  8.0             15.0         1       12             \n",
       "5  8.6              1.5         0       10             \n",
       "6  8.9             63.0         0       18             \n",
       "7  8.7              3.3         1       18             \n",
       "8  7.9             25.0         0       14             \n",
       "9  8.7             11.0         0       10             \n",
       "10 8.4             15.0         0       14             \n",
       "11 8.3             13.0         1       14             \n",
       "12 8.5              1.8         1       10             \n",
       "13 7.3              1.2         1       18             \n",
       "14 8.3              0.4         1       18             \n",
       "15 5.2              4.2         0        0             \n",
       "16 8.0              6.1         1       18             \n",
       "17 8.3              1.3         1       14             \n",
       "18 9.3             25.0         0       16             \n",
       "19 8.6            165.0         0       10             \n",
       "20 8.2             50.0         0       18             \n",
       "21 8.7             25.0         0       14             \n",
       "22 7.8              4.5         1       18             \n",
       "23 8.0             13.0         0       16             \n",
       "24 8.5             19.0         0        0             \n",
       "25 7.6              5.5         1       16             \n",
       "26 8.5              3.3         1       12             \n",
       "27 8.1             25.5         0       14             \n",
       "28 6.9             65.0         0       12             \n",
       "29 8.3             20.0         0       14             \n",
       "30 7.2             45.0         0       12             "
      ]
     },
     "metadata": {},
     "output_type": "display_data"
    }
   ],
   "source": [
    "# Load the CSV table into the my_data variable.\n",
    "my_data <- read.csv(\"movies-db.csv\")\n",
    "my_data"
   ]
  },
  {
   "cell_type": "markdown",
   "metadata": {},
   "source": [
    "The data was loaded into the `my_data` variable. But instead of viewing all the data at once, we can use the `head` function to take a look at only the top six rows of our table, like so:"
   ]
  },
  {
   "cell_type": "code",
   "execution_count": 3,
   "metadata": {
    "collapsed": false
   },
   "outputs": [
    {
     "data": {
      "text/html": [
       "<table>\n",
       "<thead><tr><th scope=col>name</th><th scope=col>year</th><th scope=col>length_min</th><th scope=col>genre</th><th scope=col>average_rating</th><th scope=col>cost_millions</th><th scope=col>foreign</th><th scope=col>age_restriction</th></tr></thead>\n",
       "<tbody>\n",
       "\t<tr><td>Toy Story         </td><td>1995              </td><td> 81               </td><td>Animation         </td><td>8.3               </td><td>30.0              </td><td>0                 </td><td> 0                </td></tr>\n",
       "\t<tr><td>Akira             </td><td>1998              </td><td>125               </td><td>Animation         </td><td>8.1               </td><td>10.4              </td><td>1                 </td><td>14                </td></tr>\n",
       "\t<tr><td>The Breakfast Club</td><td>1985              </td><td> 97               </td><td>Drama             </td><td>7.9               </td><td> 1.0              </td><td>0                 </td><td>14                </td></tr>\n",
       "\t<tr><td>The Artist        </td><td>2011              </td><td>100               </td><td>Romance           </td><td>8.0               </td><td>15.0              </td><td>1                 </td><td>12                </td></tr>\n",
       "\t<tr><td>Modern Times      </td><td>1936              </td><td> 87               </td><td>Comedy            </td><td>8.6               </td><td> 1.5              </td><td>0                 </td><td>10                </td></tr>\n",
       "\t<tr><td>Fight Club        </td><td>1999              </td><td>139               </td><td>Drama             </td><td>8.9               </td><td>63.0              </td><td>0                 </td><td>18                </td></tr>\n",
       "</tbody>\n",
       "</table>\n"
      ],
      "text/latex": [
       "\\begin{tabular}{r|llllllll}\n",
       " name & year & length\\_min & genre & average\\_rating & cost\\_millions & foreign & age\\_restriction\\\\\n",
       "\\hline\n",
       "\t Toy Story          & 1995               &  81                & Animation          & 8.3                & 30.0               & 0                  &  0                \\\\\n",
       "\t Akira              & 1998               & 125                & Animation          & 8.1                & 10.4               & 1                  & 14                \\\\\n",
       "\t The Breakfast Club & 1985               &  97                & Drama              & 7.9                &  1.0               & 0                  & 14                \\\\\n",
       "\t The Artist         & 2011               & 100                & Romance            & 8.0                & 15.0               & 1                  & 12                \\\\\n",
       "\t Modern Times       & 1936               &  87                & Comedy             & 8.6                &  1.5               & 0                  & 10                \\\\\n",
       "\t Fight Club         & 1999               & 139                & Drama              & 8.9                & 63.0               & 0                  & 18                \\\\\n",
       "\\end{tabular}\n"
      ],
      "text/markdown": [
       "\n",
       "name | year | length_min | genre | average_rating | cost_millions | foreign | age_restriction | \n",
       "|---|---|---|---|---|---|\n",
       "| Toy Story          | 1995               |  81                | Animation          | 8.3                | 30.0               | 0                  |  0                 | \n",
       "| Akira              | 1998               | 125                | Animation          | 8.1                | 10.4               | 1                  | 14                 | \n",
       "| The Breakfast Club | 1985               |  97                | Drama              | 7.9                |  1.0               | 0                  | 14                 | \n",
       "| The Artist         | 2011               | 100                | Romance            | 8.0                | 15.0               | 1                  | 12                 | \n",
       "| Modern Times       | 1936               |  87                | Comedy             | 8.6                |  1.5               | 0                  | 10                 | \n",
       "| Fight Club         | 1999               | 139                | Drama              | 8.9                | 63.0               | 0                  | 18                 | \n",
       "\n",
       "\n"
      ],
      "text/plain": [
       "  name               year length_min genre     average_rating cost_millions\n",
       "1 Toy Story          1995  81        Animation 8.3            30.0         \n",
       "2 Akira              1998 125        Animation 8.1            10.4         \n",
       "3 The Breakfast Club 1985  97        Drama     7.9             1.0         \n",
       "4 The Artist         2011 100        Romance   8.0            15.0         \n",
       "5 Modern Times       1936  87        Comedy    8.6             1.5         \n",
       "6 Fight Club         1999 139        Drama     8.9            63.0         \n",
       "  foreign age_restriction\n",
       "1 0        0             \n",
       "2 1       14             \n",
       "3 0       14             \n",
       "4 1       12             \n",
       "5 0       10             \n",
       "6 0       18             "
      ]
     },
     "metadata": {},
     "output_type": "display_data"
    }
   ],
   "source": [
    "# Print out the first six rows of my_data\n",
    "head(my_data)"
   ]
  },
  {
   "cell_type": "markdown",
   "metadata": {},
   "source": [
    "Additionally, you may want to take a look at the **structure** of your newly created table. R provides us with a function that summarizes an entire table's properties, called `str`. Let's try it out."
   ]
  },
  {
   "cell_type": "code",
   "execution_count": 4,
   "metadata": {
    "collapsed": false
   },
   "outputs": [
    {
     "name": "stdout",
     "output_type": "stream",
     "text": [
      "'data.frame':\t30 obs. of  8 variables:\n",
      " $ name           : Factor w/ 30 levels \"Akira\",\"American Beauty\",..: 29 1 21 20 14 10 8 27 18 2 ...\n",
      " $ year           : int  1995 1998 1985 2011 1936 1999 2002 1987 1977 1999 ...\n",
      " $ length_min     : int  81 125 97 100 87 139 130 119 121 122 ...\n",
      " $ genre          : Factor w/ 12 levels \"Action\",\"Adventure\",..: 3 3 7 10 5 7 6 7 1 7 ...\n",
      " $ average_rating : num  8.3 8.1 7.9 8 8.6 8.9 8.7 7.9 8.7 8.4 ...\n",
      " $ cost_millions  : num  30 10.4 1 15 1.5 63 3.3 25 11 15 ...\n",
      " $ foreign        : int  0 1 0 1 0 0 1 0 0 0 ...\n",
      " $ age_restriction: int  0 14 14 12 10 18 18 14 10 14 ...\n"
     ]
    }
   ],
   "source": [
    "# Prints out the structure of your table.\n",
    "str(my_data)"
   ]
  },
  {
   "cell_type": "markdown",
   "metadata": {},
   "source": [
    "When we loaded the file with the `read.csv` function, we had to only pass it one parameter -- the **path** to our desired file.\n",
    "\n",
    "If you're using Data Scientist Workbench, it is simple to find the path to your uploaded file. In the **Recent Data** section in the sidebar on the right, you can click the arrow to the left of the filename to see extra options -- one of these commands should be **Insert Path**, which automatically copies the path to your file into Jupyter Notebooks."
   ]
  },
  {
   "cell_type": "markdown",
   "metadata": {},
   "source": [
    "-----------------"
   ]
  },
  {
   "cell_type": "markdown",
   "metadata": {},
   "source": [
    "<a id=\"ref2\"></a>\n",
    "<center><h2>Reading Excel Files</h2></center>"
   ]
  },
  {
   "cell_type": "markdown",
   "metadata": {},
   "source": [
    "Reading XLS (Excel Spreadsheet) files is similar to reading CSV files, but there's one catch -- R does not have a native function to read them. However, thankfully, R has an extremely large repository of user-created functions, called *CRAN*. From there, we can download a library package to make us able to read XLS files.\n",
    "\n",
    "To download a package, we use the `install.packages` function. Once installed, you do not need to install that same library ever again, unless, of course, you uninstall it."
   ]
  },
  {
   "cell_type": "code",
   "execution_count": 5,
   "metadata": {
    "collapsed": false
   },
   "outputs": [
    {
     "name": "stderr",
     "output_type": "stream",
     "text": [
      "also installing the dependencies ‘rematch’, ‘cellranger’, ‘Rcpp’\n",
      "\n",
      "Updating HTML index of packages in '.Library'\n",
      "Making 'packages.html' ... done\n"
     ]
    }
   ],
   "source": [
    "# Download and install the \"readxl\" library\n",
    "install.packages(\"readxl\")"
   ]
  },
  {
   "cell_type": "markdown",
   "metadata": {},
   "source": [
    "Whenever you are going to use a library that is not native to R, you have to load it into the R environment after you install it. In other words, you need to install once only, but to use it, you must load it into R for every new session. To do so, use the `library` function, which loads up everything we can use in that library into R."
   ]
  },
  {
   "cell_type": "code",
   "execution_count": 6,
   "metadata": {
    "collapsed": false
   },
   "outputs": [],
   "source": [
    "# Load the \"readxl\" library into the R environment.\n",
    "library(readxl)"
   ]
  },
  {
   "cell_type": "markdown",
   "metadata": {},
   "source": [
    "Now that we have our library and its functions ready, we can move on to actually reading the file. In `readxl`, there is a function called `read_excel`, which does all the work for us. You can use it like this:"
   ]
  },
  {
   "cell_type": "code",
   "execution_count": null,
   "metadata": {
    "collapsed": false
   },
   "outputs": [],
   "source": [
    "# Read data from the XLS file and attribute the table to the my_excel_data variable.\n",
    "my_excel_data <- read_excel(\"movies-db.xls\")"
   ]
  },
  {
   "cell_type": "markdown",
   "metadata": {},
   "source": [
    "Since `my_excel_data` is now a dataframe in R, much like the one we created out of the CSV file, all of the native R functions can be applied to it, like `head` and `str`."
   ]
  },
  {
   "cell_type": "code",
   "execution_count": null,
   "metadata": {
    "collapsed": false
   },
   "outputs": [],
   "source": [
    "# Prints out the structure of your table.\n",
    "# Tells you how many rows and columns there are, and the names and type of each column.\n",
    "# This should be the very same as the other table we created, as they are the same dataset.\n",
    "str(my_excel_data)"
   ]
  },
  {
   "cell_type": "markdown",
   "metadata": {},
   "source": [
    "Much like the `read.csv` function, `read_excel` takes as its main parameter the **path** to the desired file."
   ]
  },
  {
   "cell_type": "markdown",
   "metadata": {},
   "source": [
    "<div class=\"alert alert-success alertsuccess\">\n",
    "<b>[Tip]</b>   \n",
    "A **Library** is basically a collection of different classes and functions which are used to perform some specific operations. You can install and use libraries to add more functions that are not included on the core R files.\n",
    "For example, the **readxl** library adds functions to read data from excel files.\n",
    "<br><br>\n",
    "It's important to know that there are many other libraries too which can be used for a variety of things. There are also plenty of other libraries to read Excel files -- readxl is just one of them.\n",
    "</div>"
   ]
  },
  {
   "cell_type": "markdown",
   "metadata": {},
   "source": [
    "-----------------"
   ]
  },
  {
   "cell_type": "markdown",
   "metadata": {},
   "source": [
    "<center><h2>Accessing Rows and Columns</h2></center>"
   ]
  },
  {
   "cell_type": "markdown",
   "metadata": {},
   "source": [
    "Whenever we use functions to read tabular data in R, the default method of structuring this data in the R environment is using Data Frames -- R's primary data structure. Data Frames are extremely versatile, and R presents us many options to manipulate them.\n",
    "\n",
    "Suppose we want to access the \"name\" column of our dataset. We can directly reference the column name on our data frame to retrieve this data, like this:"
   ]
  },
  {
   "cell_type": "code",
   "execution_count": null,
   "metadata": {
    "collapsed": false
   },
   "outputs": [],
   "source": [
    "# Retrieve a subset of the data frame consisting of the \"name\" columns\n",
    "my_data['name']"
   ]
  },
  {
   "cell_type": "markdown",
   "metadata": {},
   "source": [
    "Another way to do this is by using the `$` notation which at the output will provide a vector:"
   ]
  },
  {
   "cell_type": "code",
   "execution_count": null,
   "metadata": {
    "collapsed": false
   },
   "outputs": [],
   "source": [
    "# Retrieve the data for the \"name\" column in the data frame.\n",
    "my_data$name"
   ]
  },
  {
   "cell_type": "markdown",
   "metadata": {},
   "source": [
    "You can also do the same thing using **double square brackets**, to get a vector of `names` column."
   ]
  },
  {
   "cell_type": "code",
   "execution_count": null,
   "metadata": {
    "collapsed": false
   },
   "outputs": [],
   "source": [
    "my_data[[\"name\"]]"
   ]
  },
  {
   "cell_type": "markdown",
   "metadata": {},
   "source": [
    "Similarly, any particular row of the dataset can also be accessed. For example, to get the first row of the dataset with all column values, we can use:"
   ]
  },
  {
   "cell_type": "code",
   "execution_count": null,
   "metadata": {
    "collapsed": false
   },
   "outputs": [],
   "source": [
    "# Retrieve the first row of the data frame.\n",
    "my_data[1,]"
   ]
  },
  {
   "cell_type": "markdown",
   "metadata": {},
   "source": [
    "The first value before the comma represents the **row** of the dataset and the second value (which is blank in the above example) represents the **column** of the dataset to be retrieved. By setting the first number as 1 we say we want data from row 1. By leaving the column blank we say we want all the columns in that row.\n",
    "\n",
    "We can specify more than one column or row by using **`c`**, the **concatenate** function. By using `c` to concatenate a list of elements, we tell R that we want these observations out of the data frame. Let's try it out."
   ]
  },
  {
   "cell_type": "code",
   "execution_count": null,
   "metadata": {
    "collapsed": false
   },
   "outputs": [],
   "source": [
    "# Retrieve the first row of the data frame, but only the \"name\" and \"length_min\" columns.\n",
    "my_data[1, c(\"name\",\"length_min\")]"
   ]
  },
  {
   "cell_type": "markdown",
   "metadata": {},
   "source": [
    "-----------------"
   ]
  },
  {
   "cell_type": "markdown",
   "metadata": {},
   "source": [
    "<a id=\"ref4\"></a>\n",
    "<center><h2>Accessing Built-in Datasets in R</h2></center>"
   ]
  },
  {
   "cell_type": "markdown",
   "metadata": {},
   "source": [
    "R provides various built-in datasets for users to utilize for different purposes. To know which datasets are available, R provides a simple function -- `data` -- that returns all of the present datasets' names with a small description beside them. The ones in the `datasets` package are all inbuilt."
   ]
  },
  {
   "cell_type": "code",
   "execution_count": null,
   "metadata": {
    "collapsed": false
   },
   "outputs": [],
   "source": [
    "# Displays a list of the inbuilt datasets. Opens in a new \"window\".\n",
    "data()"
   ]
  },
  {
   "cell_type": "markdown",
   "metadata": {},
   "source": [
    "As you can see, there are many different datasets already inbuilt in the R environment. Having to go through each of them to take a look at their structure and try to find out what they represent might be very tiring. Thankfully, R has documentation present for each inbuilt dataset. You can take a look at that by using the `help` function.\n",
    "\n",
    "For example, if we want to know more about the `women` dataset, we can use the following function:"
   ]
  },
  {
   "cell_type": "code",
   "execution_count": null,
   "metadata": {
    "collapsed": false
   },
   "outputs": [],
   "source": [
    "# Opens up the documentation for the inbuilt \"women\" dataset.\n",
    "help(women)"
   ]
  },
  {
   "cell_type": "markdown",
   "metadata": {},
   "source": [
    "Since the datasets listed are inbuilt, you do not need to import or load them to use them. If you reference them by their name, R already has the data frame ready."
   ]
  },
  {
   "cell_type": "code",
   "execution_count": null,
   "metadata": {
    "collapsed": false,
    "scrolled": true
   },
   "outputs": [],
   "source": [
    "women"
   ]
  },
  {
   "cell_type": "markdown",
   "metadata": {},
   "source": [
    "<hr>\n",
    "#### Scaling R with big data\n",
    "\n",
    "As you learn more about R, if you are interested in exploring platforms that can help you run analyses at scale, you might want to sign up for a free account on [IBM Watson Studio](http://cocl.us/dsx_rp0101en), which allows you to run analyses in R with two Spark executors for free.\n",
    "\n",
    "\n",
    "<hr>\n",
    "\n",
    "### About the Authors:  \n",
    "Hi! It's [Iqbal Singh](https://ca.linkedin.com/in/iqbalsingh15) and [Walter Gomes](https://br.linkedin.com/in/walter-gomes-de-amorim-junior-624726121), the authors of this notebook. I hope you found it easy to learn how to import data into R! Feel free to connect with us if you have any questions."
   ]
  },
  {
   "cell_type": "markdown",
   "metadata": {},
   "source": [
    "<hr>\n",
    "\n",
    "\n",
    "Copyright &copy; [IBM Cognitive Class](https://cognitiveclass.ai). This notebook and its source code are released under the terms of the [MIT License](https://cognitiveclass.ai/mit-license/)."
   ]
  }
 ],
 "metadata": {
  "kernelspec": {
   "display_name": "R",
   "language": "R",
   "name": "ir"
  },
  "language_info": {
   "codemirror_mode": "r",
   "file_extension": ".r",
   "mimetype": "text/x-r-source",
   "name": "R",
   "pygments_lexer": "r",
   "version": "3.3.2"
  },
  "widgets": {
   "state": {},
   "version": "1.1.2"
  }
 },
 "nbformat": 4,
 "nbformat_minor": 2
}
